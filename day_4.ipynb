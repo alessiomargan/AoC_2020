{
 "metadata": {
  "language_info": {
   "codemirror_mode": {
    "name": "ipython",
    "version": 3
   },
   "file_extension": ".py",
   "mimetype": "text/x-python",
   "name": "python",
   "nbconvert_exporter": "python",
   "pygments_lexer": "ipython3",
   "version": "3.8.5-final"
  },
  "orig_nbformat": 2,
  "kernelspec": {
   "name": "python3",
   "display_name": "Python 3",
   "language": "python"
  }
 },
 "nbformat": 4,
 "nbformat_minor": 2,
 "cells": [
  {
   "cell_type": "code",
   "execution_count": 1,
   "metadata": {},
   "outputs": [],
   "source": [
    "%run utils.py"
   ]
  },
  {
   "cell_type": "code",
   "execution_count": 89,
   "metadata": {},
   "outputs": [
    {
     "output_type": "execute_result",
     "data": {
      "text/plain": [
       "[[('ecl', 'gry'),\n",
       "  ('pid', '860033327'),\n",
       "  ('eyr', '2020'),\n",
       "  ('hcl', '#fffffd'),\n",
       "  ('byr', '1937'),\n",
       "  ('iyr', '2017'),\n",
       "  ('cid', '147'),\n",
       "  ('hgt', '183cm')],\n",
       " [('iyr', '2013'),\n",
       "  ('ecl', 'amb'),\n",
       "  ('cid', '350'),\n",
       "  ('eyr', '2023'),\n",
       "  ('pid', '028048884'),\n",
       "  ('hcl', '#cfa07d'),\n",
       "  ('byr', '1929')],\n",
       " [('hcl', '#ae17e1'),\n",
       "  ('iyr', '2013'),\n",
       "  ('eyr', '2024'),\n",
       "  ('ecl', 'brn'),\n",
       "  ('pid', '760753108'),\n",
       "  ('byr', '1931'),\n",
       "  ('hgt', '179cm')],\n",
       " [('hcl', '#cfa07d'),\n",
       "  ('eyr', '2025'),\n",
       "  ('pid', '166559648'),\n",
       "  ('iyr', '2011'),\n",
       "  ('ecl', 'brn'),\n",
       "  ('hgt', '59in')]]"
      ]
     },
     "metadata": {},
     "execution_count": 89
    }
   ],
   "source": [
    "test = \"\"\"\\\n",
    "ecl:gry pid:860033327 eyr:2020 hcl:#fffffd\n",
    "byr:1937 iyr:2017 cid:147 hgt:183cm\n",
    "\n",
    "iyr:2013 ecl:amb cid:350 eyr:2023 pid:028048884\n",
    "hcl:#cfa07d byr:1929\n",
    "\n",
    "hcl:#ae17e1 iyr:2013\n",
    "eyr:2024\n",
    "ecl:brn pid:760753108 byr:1931\n",
    "hgt:179cm\n",
    "\n",
    "hcl:#cfa07d eyr:2025 pid:166559648\n",
    "iyr:2011 ecl:brn hgt:59in\"\"\"\n",
    "\n",
    "# count those that have all required fields. Treat cid as optional.\n",
    "key_set = {'byr', 'cid', 'ecl', 'eyr', 'hcl', 'hgt', 'iyr', 'pid'}\n",
    "opt_key = {'cid'}\n",
    "regex_input = \"(\\w+):([a-zA-Z0-9#]+)\"\n",
    "\n",
    "def test_reg(text:str):\n",
    "    for s in text.split('\\n\\n'):\n",
    "        yield re.findall(regex_input,s)\n",
    "\n",
    "list(test_reg(test))"
   ]
  },
  {
   "cell_type": "code",
   "execution_count": 97,
   "metadata": {},
   "outputs": [
    {
     "output_type": "stream",
     "name": "stdout",
     "text": [
      "[('ecl', 'gry'), ('pid', '860033327'), ('eyr', '2020'), ('hcl', '#fffffd')]\n[('byr', '1937'), ('iyr', '2017'), ('cid', '147'), ('hgt', '183cm')]\n[]\n[('iyr', '2013'), ('ecl', 'amb'), ('cid', '350'), ('eyr', '2023'), ('pid', '028048884')]\n[('hcl', '#cfa07d'), ('byr', '1929')]\n[]\n[('hcl', '#ae17e1'), ('iyr', '2013')]\n[('eyr', '2024')]\n[('ecl', 'brn'), ('pid', '760753108'), ('byr', '1931')]\n[('hgt', '179cm')]\n[]\n[('hcl', '#cfa07d'), ('eyr', '2025'), ('pid', '166559648')]\n[('iyr', '2011'), ('ecl', 'brn'), ('hgt', '59in')]\n"
     ]
    },
    {
     "output_type": "execute_result",
     "data": {
      "text/plain": [
       "2"
      ]
     },
     "metadata": {},
     "execution_count": 97
    }
   ],
   "source": [
    "def tok(iter_in):\n",
    "    def mk_key_set(kv_tuple_list):\n",
    "        d = dict()\n",
    "        for (k,v) in kv_tuple_list:\n",
    "            d[k]=v\n",
    "        return set(d.keys())\n",
    "    \n",
    "    def valid_key_set(s):\n",
    "        return 1 if s == key_set or s == key_set-opt_key else 0\n",
    "    \n",
    "    accum = []\n",
    "    for line in iter_in:\n",
    "        l = re.findall(regex_input,line)\n",
    "        print(l)\n",
    "        if len(l) :\n",
    "            accum += l\n",
    "        else :\n",
    "            yield valid_key_set(mk_key_set(accum))\n",
    "            accum = []\n",
    "    # get last accumulated\n",
    "    d = dict()\n",
    "    for (k,v) in accum:\n",
    "        d[k]=v\n",
    "    yield 1 if set(d.keys()) == key_set or set(d.keys()) == key_set-opt_key else 0\n",
    "            \n",
    "\n",
    "sum(list(tok(test.splitlines())))"
   ]
  },
  {
   "cell_type": "code",
   "execution_count": 95,
   "metadata": {},
   "outputs": [
    {
     "output_type": "execute_result",
     "data": {
      "text/plain": [
       "228"
      ]
     },
     "metadata": {},
     "execution_count": 95
    }
   ],
   "source": [
    "sum(list(tok(open(\"input/input4.txt\"))))"
   ]
  },
  {
   "cell_type": "code",
   "execution_count": 75,
   "metadata": {},
   "outputs": [
    {
     "output_type": "execute_result",
     "data": {
      "text/plain": [
       "True"
      ]
     },
     "metadata": {},
     "execution_count": 75
    }
   ],
   "source": [
    "set(data.keys()) == key_set"
   ]
  },
  {
   "cell_type": "code",
   "execution_count": 49,
   "metadata": {},
   "outputs": [
    {
     "output_type": "execute_result",
     "data": {
      "text/plain": [
       "'cazzocazzo'"
      ]
     },
     "metadata": {},
     "execution_count": 49
    }
   ],
   "source": [
    "\"\".join([data,\"cazzo\"])"
   ]
  },
  {
   "cell_type": "code",
   "execution_count": null,
   "metadata": {},
   "outputs": [],
   "source": []
  }
 ]
}