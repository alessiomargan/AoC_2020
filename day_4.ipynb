{
 "metadata": {
  "language_info": {
   "codemirror_mode": {
    "name": "ipython",
    "version": 3
   },
   "file_extension": ".py",
   "mimetype": "text/x-python",
   "name": "python",
   "nbconvert_exporter": "python",
   "pygments_lexer": "ipython3",
   "version": "3.8.5-final"
  },
  "orig_nbformat": 2,
  "kernelspec": {
   "name": "python3",
   "display_name": "Python 3",
   "language": "python"
  }
 },
 "nbformat": 4,
 "nbformat_minor": 2,
 "cells": [
  {
   "cell_type": "code",
   "execution_count": 98,
   "metadata": {},
   "outputs": [],
   "source": [
    "%run utils.py"
   ]
  },
  {
   "cell_type": "code",
   "execution_count": 112,
   "metadata": {},
   "outputs": [
    {
     "output_type": "execute_result",
     "data": {
      "text/plain": [
       "[[('ecl', 'gry'),\n",
       "  ('pid', '860033327'),\n",
       "  ('eyr', '2020'),\n",
       "  ('hcl', '#fffffd'),\n",
       "  ('byr', '1937'),\n",
       "  ('iyr', '2017'),\n",
       "  ('cid', '147'),\n",
       "  ('hgt', '183cm')],\n",
       " [('iyr', '2013'),\n",
       "  ('ecl', 'amb'),\n",
       "  ('cid', '350'),\n",
       "  ('eyr', '2023'),\n",
       "  ('pid', '028048884'),\n",
       "  ('hcl', '#cfa07d'),\n",
       "  ('byr', '1929')],\n",
       " [('hcl', '#ae17e1'),\n",
       "  ('iyr', '2013'),\n",
       "  ('eyr', '2024'),\n",
       "  ('ecl', 'brn'),\n",
       "  ('pid', '760753108'),\n",
       "  ('byr', '1931'),\n",
       "  ('hgt', '179cm')],\n",
       " [('hcl', '#cfa07d'),\n",
       "  ('eyr', '2025'),\n",
       "  ('pid', '166559648'),\n",
       "  ('iyr', '2011'),\n",
       "  ('ecl', 'brn'),\n",
       "  ('hgt', '59in')]]"
      ]
     },
     "metadata": {},
     "execution_count": 112
    }
   ],
   "source": [
    "test = \"\"\"\\\n",
    "ecl:gry pid:860033327 eyr:2020 hcl:#fffffd\n",
    "byr:1937 iyr:2017 cid:147 hgt:183cm\n",
    "\n",
    "iyr:2013 ecl:amb cid:350 eyr:2023 pid:028048884\n",
    "hcl:#cfa07d byr:1929\n",
    "\n",
    "hcl:#ae17e1 iyr:2013\n",
    "eyr:2024\n",
    "ecl:brn pid:760753108 byr:1931\n",
    "hgt:179cm\n",
    "\n",
    "hcl:#cfa07d eyr:2025 pid:166559648\n",
    "iyr:2011 ecl:brn hgt:59in\"\"\"\n",
    "\n",
    "valid = \"\"\"\\\n",
    "pid:087499704 hgt:74in ecl:grn iyr:2012 eyr:2030 byr:1980\n",
    "hcl:#623a2f\n",
    "\n",
    "eyr:2029 ecl:blu cid:129 byr:1989\n",
    "iyr:2014 pid:896056539 hcl:#a97842 hgt:165cm\n",
    "\n",
    "hcl:#888785\n",
    "hgt:164cm byr:2001 iyr:2015 cid:88\n",
    "pid:545766238 ecl:hzl\n",
    "eyr:2022\n",
    "\n",
    "iyr:2010 hgt:158cm hcl:#b6652a ecl:blu byr:1944 eyr:2021 pid:093154719\n",
    "\"\"\"\n",
    "\n",
    "invalid = \"\"\"\n",
    "eyr:1972 cid:100\n",
    "hcl:#18171d ecl:amb hgt:170 pid:186cm iyr:2018 byr:1926\n",
    "\n",
    "iyr:2019\n",
    "hcl:#602927 eyr:1967 hgt:170cm\n",
    "ecl:grn pid:012533040 byr:1946\n",
    "\n",
    "hcl:dab227 iyr:2012\n",
    "ecl:brn hgt:182cm pid:021572410 eyr:2020 byr:1992 cid:277\n",
    "\n",
    "hgt:59cm ecl:zzz\n",
    "eyr:2038 hcl:74454a iyr:2023\n",
    "pid:3556412378 byr:2007\n",
    "\"\"\"\n",
    "\n",
    "# count those that have all required fields. Treat cid as optional.\n",
    "key_set = {'byr', 'cid', 'ecl', 'eyr', 'hcl', 'hgt', 'iyr', 'pid'}\n",
    "opt_key = {'cid'}\n",
    "regex_input = \"(\\w+):([a-zA-Z0-9#]+)\"\n",
    "check_fun = {\n",
    "    'byr': lambda x: 1 if len(x)==4 and int(x) in range(1920,2002+1) else 0,\n",
    "    'iyr': lambda x: 1 if len(x)==4 and int(x) in range(2010,2020+1) else 0,\n",
    "    'ecl': lambda x: 1 if x in ['amb','blu','brn','gry','grn','hzl','oth'] else 0,\n",
    "    'eyr': lambda x: 1 if len(x)==4 and int(x) in range(2020,2030+1) else 0,\n",
    "    'hcl': lambda x: 1 if len([n for (n) in re.findall(\"(^#[a-fA-F0-9#]+)\",x) if len(n)==6+1]) == 1 else 0,\n",
    "    'hgt': lambda x: 1 if len([int(h) for (h,u) in re.findall(\"(\\d+)(cm|in)\",x) if (u=='cm' and int(h) in range(150,193+1)) or (u=='in' and int(h) in range(59,76+1))]) == 1 else 0,\n",
    "    'pid': lambda x: 1 if len([n for (n) in re.findall(\"(\\d+)\",x) if len(n)==9]) == 1 else 0,\n",
    "    'cid': lambda x: 1\n",
    "}\n",
    "\n",
    "def test_reg(text:str):\n",
    "    for s in text.split('\\n\\n'):\n",
    "        yield re.findall(regex_input,s)\n",
    "\n",
    "list(test_reg(test))"
   ]
  },
  {
   "cell_type": "code",
   "execution_count": 113,
   "metadata": {},
   "outputs": [],
   "source": [
    "def tok(iter_in):\n",
    "    def mk_dict(kv_tuple:list) -> dict:\n",
    "        return {k:v for (k,v) in kv_tuple}\n",
    "    \n",
    "    def valid_key_set(s:set) -> int:\n",
    "        return 1 if s >= key_set-opt_key else 0\n",
    "    \n",
    "    def valid_key_value(d:dict) -> int:\n",
    "        return 1 if sum([check_fun[k](v) for k,v in d.items() ]) == len(set(d.keys())) else 0\n",
    "\n",
    "    accum = []\n",
    "    for line in iter_in:\n",
    "        l = re.findall(regex_input,line)\n",
    "        #print(l)\n",
    "        if len(l) :\n",
    "            accum += l\n",
    "        else :\n",
    "            yield valid_key_set(set(mk_dict(accum))) and valid_key_value(mk_dict(accum))\n",
    "            accum = []\n",
    "    # get last accumulated\n",
    "    yield valid_key_set(set(mk_dict(accum))) and valid_key_value(mk_dict(accum))\n",
    "\n"
   ]
  },
  {
   "cell_type": "code",
   "execution_count": 114,
   "metadata": {},
   "outputs": [
    {
     "output_type": "execute_result",
     "data": {
      "text/plain": [
       "2"
      ]
     },
     "metadata": {},
     "execution_count": 114
    }
   ],
   "source": [
    "sum(list(tok(test.splitlines())))"
   ]
  },
  {
   "cell_type": "code",
   "execution_count": 119,
   "metadata": {},
   "outputs": [
    {
     "output_type": "execute_result",
     "data": {
      "text/plain": [
       "True"
      ]
     },
     "metadata": {},
     "execution_count": 119
    }
   ],
   "source": [
    "sum(list(tok(valid.splitlines()))) == len(valid.split('\\n\\n'))"
   ]
  },
  {
   "cell_type": "code",
   "execution_count": 120,
   "metadata": {},
   "outputs": [
    {
     "output_type": "execute_result",
     "data": {
      "text/plain": [
       "True"
      ]
     },
     "metadata": {},
     "execution_count": 120
    }
   ],
   "source": [
    "sum(list(tok(invalid.splitlines()))) == 0"
   ]
  },
  {
   "cell_type": "code",
   "execution_count": 118,
   "metadata": {
    "tags": []
   },
   "outputs": [
    {
     "output_type": "execute_result",
     "data": {
      "text/plain": [
       "175"
      ]
     },
     "metadata": {},
     "execution_count": 118
    }
   ],
   "source": [
    "sum(list(tok(open(\"input/input4.txt\"))))"
   ]
  },
  {
   "cell_type": "code",
   "execution_count": 59,
   "metadata": {},
   "outputs": [
    {
     "output_type": "execute_result",
     "data": {
      "text/plain": [
       "[1, 1, 1, 1, 1, 0, 0, 1]"
      ]
     },
     "metadata": {},
     "execution_count": 59
    }
   ],
   "source": [
    "fun = lambda x: 1 if len([int(h) for (h,u) in re.findall(\"(\\d+)(cm|in)\",x) if (u=='cm' and int(h) in range(150,193+1)) or (u=='in' and int(h) in range(59,76+1))]) == 1 else 0\n",
    "list(map(fun,'150cm, 59in, 193cm 76in 179cm 202cm 145cm 67in'.split()))\n"
   ]
  },
  {
   "cell_type": "code",
   "execution_count": 86,
   "metadata": {},
   "outputs": [
    {
     "output_type": "execute_result",
     "data": {
      "text/plain": [
       "[0, 0, 1]"
      ]
     },
     "metadata": {},
     "execution_count": 86
    }
   ],
   "source": [
    "fun = lambda x: 1 if len([n for (n) in re.findall(\"(\\d+)\",x) if len(n)==9]) == 1 else 0\n",
    "list(map(fun,'0001230 1234567890 760753108'.split()))"
   ]
  },
  {
   "cell_type": "code",
   "execution_count": 97,
   "metadata": {},
   "outputs": [
    {
     "output_type": "execute_result",
     "data": {
      "text/plain": [
       "[1, 0, 1]"
      ]
     },
     "metadata": {},
     "execution_count": 97
    }
   ],
   "source": [
    "re.findall(\"(^#[a-fA-F0-9#]+)\",'#abcdef')\n",
    "fun = lambda x: 1 if len([n for (n) in re.findall(\"(^#[a-fA-F0-9#]+)\",x) if len(n)==6+1]) == 1 else 0\n",
    "list(map(fun,'#abcdef abcdef #11eeda'.split()))"
   ]
  },
  {
   "cell_type": "code",
   "execution_count": null,
   "metadata": {},
   "outputs": [],
   "source": []
  }
 ]
}