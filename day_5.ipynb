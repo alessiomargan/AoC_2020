{
 "metadata": {
  "language_info": {
   "codemirror_mode": {
    "name": "ipython",
    "version": 3
   },
   "file_extension": ".py",
   "mimetype": "text/x-python",
   "name": "python",
   "nbconvert_exporter": "python",
   "pygments_lexer": "ipython3",
   "version": "3.8.5-final"
  },
  "orig_nbformat": 2,
  "kernelspec": {
   "name": "python3",
   "display_name": "Python 3.8.5 64-bit ('base': conda)",
   "metadata": {
    "interpreter": {
     "hash": "b69e546690c4946095e0c6a19faf5121c217682b02476cba6a2dd83872ffcf85"
    }
   }
  }
 },
 "nbformat": 4,
 "nbformat_minor": 2,
 "cells": [
  {
   "cell_type": "code",
   "execution_count": 3,
   "metadata": {},
   "outputs": [],
   "source": [
    "%run utils.py"
   ]
  },
  {
   "cell_type": "code",
   "execution_count": 4,
   "metadata": {},
   "outputs": [],
   "source": [
    "# seats binary space partitioning\n",
    "# Each letter tells you which half of a region the given seat is in. Start with the whole list of rows;\n",
    "# the first letter indicates whether the seat is in the front (0 through 63) or the back (64 throug 127)\n",
    "test = \"\"\"\\\n",
    "FBFBBFFRLR\n",
    "BFFFBBFRRR\n",
    "FFFBBBFRRR\n",
    "BBFFBBFRLL\\\n",
    "\"\"\""
   ]
  },
  {
   "cell_type": "code",
   "execution_count": 5,
   "metadata": {},
   "outputs": [],
   "source": [
    "def bin_search(path:str, size:int)->int:\n",
    "        start,end = (0,size)\n",
    "        for p in path :\n",
    "            d=(end-start)/2\n",
    "            if p == '1':\n",
    "                end -= d \n",
    "            else :\n",
    "                start += d\n",
    "            #print(p,start,end-1)\n",
    "        assert(start == end-1)\n",
    "        return start\n",
    "\n",
    "def norm(path:str):\n",
    "    return path.strip().replace('F','1').replace('B','0').replace('L','1').replace('R','0')\n",
    "\n",
    "def seat_id(iter_in):\n",
    "    for row_path,col_path in [(bsp[:7],bsp[7:]) for bsp in map(norm,iter_in)]:\n",
    "        row = bin_search(row_path,128)\n",
    "        col = bin_search(col_path,8)\n",
    "        yield row * 8 + col\n"
   ]
  },
  {
   "cell_type": "code",
   "execution_count": 6,
   "metadata": {},
   "outputs": [
    {
     "output_type": "execute_result",
     "data": {
      "text/plain": [
       "[119.0, 357.0, 567.0, 820.0]"
      ]
     },
     "metadata": {},
     "execution_count": 6
    }
   ],
   "source": [
    "sorted(list(seat_id(test.splitlines())))"
   ]
  },
  {
   "cell_type": "code",
   "execution_count": 9,
   "metadata": {},
   "outputs": [
    {
     "output_type": "stream",
     "name": "stdout",
     "text": [
      "3.28 ms ± 111 µs per loop (mean ± std. dev. of 7 runs, 100 loops each)\n"
     ]
    }
   ],
   "source": [
    "id_list = sorted(list(seat_id(open(\"input/input5.txt\"))))"
   ]
  },
  {
   "cell_type": "code",
   "execution_count": 10,
   "metadata": {},
   "outputs": [
    {
     "output_type": "error",
     "ename": "NameError",
     "evalue": "name 'id_list' is not defined",
     "traceback": [
      "\u001b[0;31m---------------------------------------------------------------------------\u001b[0m",
      "\u001b[0;31mNameError\u001b[0m                                 Traceback (most recent call last)",
      "\u001b[0;32m<ipython-input-10-fb963d21cec5>\u001b[0m in \u001b[0;36m<module>\u001b[0;34m\u001b[0m\n\u001b[0;32m----> 1\u001b[0;31m \u001b[0mid_list\u001b[0m\u001b[0;34m[\u001b[0m\u001b[0;34m-\u001b[0m\u001b[0;36m1\u001b[0m\u001b[0;34m]\u001b[0m\u001b[0;34m\u001b[0m\u001b[0;34m\u001b[0m\u001b[0m\n\u001b[0m",
      "\u001b[0;31mNameError\u001b[0m: name 'id_list' is not defined"
     ]
    }
   ],
   "source": [
    "id_list[-1]"
   ]
  },
  {
   "cell_type": "code",
   "execution_count": 40,
   "metadata": {},
   "outputs": [
    {
     "output_type": "execute_result",
     "data": {
      "text/plain": [
       "[(606.0, 608.0)]"
      ]
     },
     "metadata": {},
     "execution_count": 40
    }
   ],
   "source": [
    "\"Use a predicate to partition entries into false entries and true entries\"\n",
    "false_pred,true_pred = partition(lambda x: x[1]-x[0]==2 , pairwise(id_list))\n",
    "list(true_pred)"
   ]
  },
  {
   "cell_type": "code",
   "execution_count": null,
   "metadata": {},
   "outputs": [],
   "source": []
  }
 ]
}