{
 "metadata": {
  "language_info": {
   "codemirror_mode": {
    "name": "ipython",
    "version": 3
   },
   "file_extension": ".py",
   "mimetype": "text/x-python",
   "name": "python",
   "nbconvert_exporter": "python",
   "pygments_lexer": "ipython3",
   "version": "3.8.5-final"
  },
  "orig_nbformat": 2,
  "kernelspec": {
   "name": "python3",
   "display_name": "Python 3.8.5 64-bit ('base': conda)",
   "metadata": {
    "interpreter": {
     "hash": "b69e546690c4946095e0c6a19faf5121c217682b02476cba6a2dd83872ffcf85"
    }
   }
  }
 },
 "nbformat": 4,
 "nbformat_minor": 2,
 "cells": [
  {
   "cell_type": "code",
   "execution_count": 1,
   "metadata": {},
   "outputs": [],
   "source": [
    "%run utils.py"
   ]
  },
  {
   "cell_type": "code",
   "execution_count": 2,
   "metadata": {},
   "outputs": [],
   "source": [
    "# seats binary space partitioning\n",
    "# Each letter tells you which half of a region the given seat is in. Start with the whole list of rows;\n",
    "# the first letter indicates whether the seat is in the front (0 through 63) or the back (64 throug 127)\n",
    "test = \"\"\"\\\n",
    "FBFBBFFRLR\n",
    "BFFFBBFRRR\n",
    "FFFBBBFRRR\n",
    "BBFFBBFRLL\\\n",
    "\"\"\""
   ]
  },
  {
   "cell_type": "code",
   "execution_count": 67,
   "metadata": {},
   "outputs": [],
   "source": [
    "def bin_search(path:str, size:int)->int:\n",
    "        start,end = (0,size)\n",
    "        for p in path :\n",
    "            d=(end-start)/2\n",
    "            if p == '1':\n",
    "                end -= d \n",
    "            else :\n",
    "                start += d\n",
    "            #print(p,start,end-1)\n",
    "        assert(start == end-1)\n",
    "        return start\n",
    "\n",
    "def norm(path:str):\n",
    "    return path.replace('F','1').replace('B','0').replace('L','1').replace('R','0')\n",
    "\n",
    "def seat_id(iter_in):\n",
    "    for row_path,col_path in [(bsp[:7],bsp[7:]) for bsp in map(norm,iter_in)]:\n",
    "        row = bin_search(row_path,128)\n",
    "        col = bin_search(col_path,8)\n",
    "        yield row * 8 + col\n"
   ]
  },
  {
   "cell_type": "code",
   "execution_count": 68,
   "metadata": {},
   "outputs": [
    {
     "output_type": "execute_result",
     "data": {
      "text/plain": [
       "[(44.0, 5.0), (70.0, 7.0), (14.0, 7.0), (102.0, 4.0)]"
      ]
     },
     "metadata": {},
     "execution_count": 68
    }
   ],
   "source": [
    "list(search_seat(test.splitlines()))"
   ]
  },
  {
   "cell_type": "code",
   "execution_count": 58,
   "metadata": {},
   "outputs": [
    {
     "output_type": "execute_result",
     "data": {
      "text/plain": [
       "'1010011010'"
      ]
     },
     "metadata": {},
     "execution_count": 58
    }
   ],
   "source": [
    "\"FBFBBFFRLR\".replace('F','1').replace('B','0').replace('L','1').replace('R','0')"
   ]
  },
  {
   "cell_type": "code",
   "execution_count": 59,
   "metadata": {},
   "outputs": [
    {
     "output_type": "execute_result",
     "data": {
      "text/plain": [
       "'map(func, *iterables) --> map object\\n\\nMake an iterator that computes the function using arguments from\\neach of the iterables.  Stops when the shortest iterable is exhausted.'"
      ]
     },
     "metadata": {},
     "execution_count": 59
    }
   ],
   "source": [
    "map.__doc__"
   ]
  },
  {
   "cell_type": "code",
   "execution_count": null,
   "metadata": {},
   "outputs": [],
   "source": []
  }
 ]
}