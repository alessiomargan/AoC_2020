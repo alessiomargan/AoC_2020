{
 "metadata": {
  "language_info": {
   "codemirror_mode": {
    "name": "ipython",
    "version": 3
   },
   "file_extension": ".py",
   "mimetype": "text/x-python",
   "name": "python",
   "nbconvert_exporter": "python",
   "pygments_lexer": "ipython3",
   "version": "3.8.5-final"
  },
  "orig_nbformat": 2,
  "kernelspec": {
   "name": "python3",
   "display_name": "Python 3.8.5 64-bit ('base': conda)",
   "metadata": {
    "interpreter": {
     "hash": "b69e546690c4946095e0c6a19faf5121c217682b02476cba6a2dd83872ffcf85"
    }
   }
  }
 },
 "nbformat": 4,
 "nbformat_minor": 2,
 "cells": [
  {
   "cell_type": "code",
   "execution_count": 2,
   "metadata": {},
   "outputs": [],
   "source": [
    "%run utils.py    "
   ]
  },
  {
   "cell_type": "code",
   "execution_count": 6,
   "metadata": {},
   "outputs": [
    {
     "output_type": "error",
     "ename": "SyntaxError",
     "evalue": "can't use starred expression here (<ipython-input-6-51e549580119>, line 9)",
     "traceback": [
      "\u001b[0;36m  File \u001b[0;32m\"<ipython-input-6-51e549580119>\"\u001b[0;36m, line \u001b[0;32m9\u001b[0m\n\u001b[0;31m    yield *re.findall(regex_input,s)\u001b[0m\n\u001b[0m          ^\u001b[0m\n\u001b[0;31mSyntaxError\u001b[0m\u001b[0;31m:\u001b[0m can't use starred expression here\n"
     ]
    }
   ],
   "source": [
    "test = \"\"\"1-3 a: abcde\n",
    "1-3 b: cdefg\n",
    "2-10 c: cccccccccc\n",
    "\"\"\"\n",
    "regex_input = \"(\\d+)-(\\d+) (\\w): (\\w+)\"\n",
    "\n",
    "def test_reg(text:str):\n",
    "    for s in text.splitlines():\n",
    "        yield re.findall(regex_input,s)\n",
    "\n",
    "list(test_reg(test))\n",
    "\n",
    "        "
   ]
  },
  {
   "cell_type": "code",
   "execution_count": 45,
   "metadata": {},
   "outputs": [],
   "source": [
    "@dataclass\n",
    "class PwdPolicy:\n",
    "    arg1: int\n",
    "    arg2: int\n",
    "    chr : str\n",
    "    passwd: str\n",
    "\n",
    "    def is_valid_part_1(self):\n",
    "        cnt = self.passwd.count(self.chr)\n",
    "        return 1 if cnt >= self.arg1 and cnt <= self.arg2 else 0\n",
    "    \n",
    "    def is_valid_part_2(self):\n",
    "        return (self.passwd[self.arg1-1] == self.chr) != (self.passwd[self.arg2-1] == self.chr) \n"
   ]
  },
  {
   "cell_type": "code",
   "execution_count": 59,
   "metadata": {},
   "outputs": [
    {
     "output_type": "execute_result",
     "data": {
      "text/plain": [
       "[1, 0, 1]"
      ]
     },
     "metadata": {},
     "execution_count": 59
    }
   ],
   "source": [
    "def tok(iter_in, part:str):\n",
    "    for line in iter_in:\n",
    "        [(min,max,who,where)] = re.findall(regex_input,line)\n",
    "        #print(min,max,who,where)\n",
    "        pwd_policy = PwdPolicy(int(min),int(max),who,where)\n",
    "        if (part==\"part_1\") :\n",
    "            yield pwd_policy.is_valid_part_1()\n",
    "        else :\n",
    "            yield pwd_policy.is_valid_part_2()\n",
    "\n",
    "list(tok(test.splitlines(), \"part_1\"))"
   ]
  },
  {
   "cell_type": "code",
   "execution_count": 59,
   "metadata": {
    "tags": []
   },
   "outputs": [],
   "source": [
    "\n"
   ]
  },
  {
   "cell_type": "code",
   "execution_count": 60,
   "metadata": {},
   "outputs": [
    {
     "output_type": "execute_result",
     "data": {
      "text/plain": [
       "569"
      ]
     },
     "metadata": {},
     "execution_count": 60
    }
   ],
   "source": [
    "sum(list(tok(open(\"input/input2.txt\"), \"part_1\")))"
   ]
  },
  {
   "cell_type": "code",
   "execution_count": 61,
   "metadata": {},
   "outputs": [
    {
     "output_type": "execute_result",
     "data": {
      "text/plain": [
       "346"
      ]
     },
     "metadata": {},
     "execution_count": 61
    }
   ],
   "source": [
    "sum(list(tok(open(\"input/input2.txt\"), \"part_2\")))"
   ]
  },
  {
   "cell_type": "code",
   "execution_count": null,
   "metadata": {},
   "outputs": [],
   "source": []
  }
 ]
}