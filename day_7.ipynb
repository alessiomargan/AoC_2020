{
 "metadata": {
  "language_info": {
   "codemirror_mode": {
    "name": "ipython",
    "version": 3
   },
   "file_extension": ".py",
   "mimetype": "text/x-python",
   "name": "python",
   "nbconvert_exporter": "python",
   "pygments_lexer": "ipython3",
   "version": "3.8.5-final"
  },
  "orig_nbformat": 2,
  "kernelspec": {
   "name": "python3",
   "display_name": "Python 3",
   "language": "python"
  }
 },
 "nbformat": 4,
 "nbformat_minor": 2,
 "cells": [
  {
   "cell_type": "code",
   "execution_count": 4,
   "metadata": {},
   "outputs": [],
   "source": [
    "%run utils.py\n",
    "from functools import reduce"
   ]
  },
  {
   "cell_type": "code",
   "execution_count": 5,
   "metadata": {},
   "outputs": [
    {
     "output_type": "execute_result",
     "data": {
      "text/plain": [
       "[[('light', 'red', '', '', '', '', ''),\n",
       "  ('', '', '1', 'bright', 'white', 'bag,', ''),\n",
       "  ('', '', '2', 'muted', 'yellow', 'bags.', '')],\n",
       " [('dark', 'orange', '', '', '', '', ''),\n",
       "  ('', '', '3', 'bright', 'white', 'bags,', ''),\n",
       "  ('', '', '4', 'muted', 'yellow', 'bags.', '')],\n",
       " [('bright', 'white', '', '', '', '', ''),\n",
       "  ('', '', '1', 'shiny', 'gold', 'bag.', '')],\n",
       " [('muted', 'yellow', '', '', '', '', ''),\n",
       "  ('', '', '2', 'shiny', 'gold', 'bags,', ''),\n",
       "  ('', '', '9', 'faded', 'blue', 'bags.', '')],\n",
       " [('shiny', 'gold', '', '', '', '', ''),\n",
       "  ('', '', '1', 'dark', 'olive', 'bag,', ''),\n",
       "  ('', '', '2', 'vibrant', 'plum', 'bags.', '')],\n",
       " [('dark', 'olive', '', '', '', '', ''),\n",
       "  ('', '', '3', 'faded', 'blue', 'bags,', ''),\n",
       "  ('', '', '4', 'dotted', 'black', 'bags.', '')],\n",
       " [('vibrant', 'plum', '', '', '', '', ''),\n",
       "  ('', '', '5', 'faded', 'blue', 'bags,', ''),\n",
       "  ('', '', '6', 'dotted', 'black', 'bags.', '')],\n",
       " [('faded', 'blue', '', '', '', '', ''),\n",
       "  ('', '', '', '', '', '', 'no other bags.')],\n",
       " [('dotted', 'black', '', '', '', '', ''),\n",
       "  ('', '', '', '', '', '', 'no other bags.')]]"
      ]
     },
     "metadata": {},
     "execution_count": 5
    }
   ],
   "source": [
    "test = \"\"\"\\\n",
    "light red bags contain 1 bright white bag, 2 muted yellow bags.\n",
    "dark orange bags contain 3 bright white bags, 4 muted yellow bags.\n",
    "bright white bags contain 1 shiny gold bag.\n",
    "muted yellow bags contain 2 shiny gold bags, 9 faded blue bags.\n",
    "shiny gold bags contain 1 dark olive bag, 2 vibrant plum bags.\n",
    "dark olive bags contain 3 faded blue bags, 4 dotted black bags.\n",
    "vibrant plum bags contain 5 faded blue bags, 6 dotted black bags.\n",
    "faded blue bags contain no other bags.\n",
    "dotted black bags contain no other bags.\"\"\"\n",
    "\n",
    "#regex_input = \"(\\w+) (\\w+) bags contain (\\d+) (\\w+) (\\w+) ([bag?s?,?.]+) (\\d+) (\\w+) (\\w+) ([bag?s?,?.]+)\"\n",
    "#regex_input = \"(\\w+) (\\w+) bags contain (\\d+) (\\w+) (\\w+) ([bag?s?,?.]+)\"\n",
    "#regex_input = \"(\\w+) (\\w+) bags contain no other ([bag?s?,?.]+)\"\n",
    "regex_input = \"(\\w+) (\\w+) bags contain|(\\d+) (\\w+) (\\w+) ([bag?s?,?.]+)|(no other bags.)\"\n",
    "\n",
    "def test_reg(text:str):\n",
    "    for s in text.splitlines():\n",
    "        yield re.findall(regex_input,s)\n",
    "\n",
    "list(test_reg(test))\n"
   ]
  },
  {
   "cell_type": "code",
   "execution_count": 6,
   "metadata": {},
   "outputs": [
    {
     "output_type": "execute_result",
     "data": {
      "text/plain": [
       "{'light_red': {'bright_white': '1', 'muted_yellow': '2'},\n",
       " 'dark_orange': {'bright_white': '3', 'muted_yellow': '4'},\n",
       " 'bright_white': {'shiny_gold': '1'},\n",
       " 'muted_yellow': {'shiny_gold': '2', 'faded_blue': '9'},\n",
       " 'shiny_gold': {'dark_olive': '1', 'vibrant_plum': '2'},\n",
       " 'dark_olive': {'faded_blue': '3', 'dotted_black': '4'},\n",
       " 'vibrant_plum': {'faded_blue': '5', 'dotted_black': '6'},\n",
       " 'faded_blue': None,\n",
       " 'dotted_black': None}"
      ]
     },
     "metadata": {},
     "execution_count": 6
    }
   ],
   "source": [
    "regex_input = \"\"\"\\\n",
    "(?P<agg>\\w+) (?P<col>\\w+) bags contain|\\\n",
    "(?P<num>\\d+) (?P<cagg>\\w+) (?P<ccol>\\w+) ([bag?s?,?.]+)|\\\n",
    "(?P<no_bags>no other bags.)\"\"\"\n",
    "\n",
    "def parse(iter_in):\n",
    "    for s in iter_in :\n",
    "        parsed_list = [mo.groupdict() for mo in re.finditer(regex_input, s)]\n",
    "        k = \"{agg}_{col}\".format(**parsed_list[0])\n",
    "        if len(parsed_list) == 2 and parsed_list[1]['no_bags']:\n",
    "            yield { k: None }\n",
    "        else :\n",
    "            yield { k: {\"{cagg}_{ccol}\".format(**d): d['num'] for d in parsed_list[1:]} }\n",
    "\n",
    "d = dict()\n",
    "for dd in parse(test.splitlines()):\n",
    "    d.update(dd)\n",
    "d"
   ]
  },
  {
   "cell_type": "code",
   "execution_count": 7,
   "metadata": {},
   "outputs": [
    {
     "output_type": "execute_result",
     "data": {
      "text/plain": [
       "332"
      ]
     },
     "metadata": {},
     "execution_count": 7
    }
   ],
   "source": [
    "def part_1(iter_in):\n",
    "    bags = dict()\n",
    "    for d in parse(iter_in):\n",
    "        bags.update(d)\n",
    "\n",
    "    shiny_gold = set()\n",
    "    search_stack = [\"shiny_gold\"]\n",
    "    while len(search_stack):\n",
    "        what = search_stack.pop()\n",
    "        for k,v in bags.items():\n",
    "            if v and what in v.keys():\n",
    "                shiny_gold.add(k)\n",
    "                search_stack.append(k)\n",
    "    \n",
    "    return shiny_gold\n",
    "\n",
    "len(part_1(open(\"input/input7.txt\")))\n",
    "#part_1(test.splitlines())"
   ]
  },
  {
   "cell_type": "code",
   "execution_count": 8,
   "metadata": {},
   "outputs": [
    {
     "output_type": "execute_result",
     "data": {
      "text/plain": [
       "{'shiny_gold': {'dark_red': '2'},\n",
       " 'dark_red': {'dark_orange': '2'},\n",
       " 'dark_orange': {'dark_yellow': '2'},\n",
       " 'dark_yellow': {'dark_green': '2'},\n",
       " 'dark_green': {'dark_blue': '2'},\n",
       " 'dark_blue': {'dark_violet': '2'},\n",
       " 'dark_violet': None}"
      ]
     },
     "metadata": {},
     "execution_count": 8
    }
   ],
   "source": [
    "test = \"\"\"\\\n",
    "shiny gold bags contain 2 dark red bags.\n",
    "dark red bags contain 2 dark orange bags.\n",
    "dark orange bags contain 2 dark yellow bags.\n",
    "dark yellow bags contain 2 dark green bags.\n",
    "dark green bags contain 2 dark blue bags.\n",
    "dark blue bags contain 2 dark violet bags.\n",
    "dark violet bags contain no other bags.\"\"\"\n",
    "\n",
    "d = dict()\n",
    "for dd in parse(test.splitlines()):\n",
    "    d.update(dd)\n",
    "d"
   ]
  },
  {
   "cell_type": "code",
   "execution_count": 18,
   "metadata": {},
   "outputs": [],
   "source": [
    "from anytree import Node\n",
    "\n",
    "def part_2(iter_in):\n",
    "    bags = dict()\n",
    "    for d in parse(iter_in):\n",
    "        bags.update(d)\n",
    "\n",
    "    shiny_gold = Node(\"shiny_gold\", num=1)\n",
    "    search_stack = [shiny_gold]\n",
    "    while len(search_stack):\n",
    "        curr_node = search_stack.pop()\n",
    "        if bags[curr_node.name] :\n",
    "            for name,count in bags[curr_node.name].items():\n",
    "                search_stack.append(Node(name, num=int(count), parent=curr_node))\n",
    "\n",
    "    return shiny_gold\n"
   ]
  },
  {
   "cell_type": "code",
   "execution_count": 19,
   "metadata": {},
   "outputs": [
    {
     "output_type": "stream",
     "name": "stdout",
     "text": [
      "shiny_gold\n+-- dark_red\n    +-- dark_orange\n        +-- dark_yellow\n            +-- dark_green\n                +-- dark_blue\n                    +-- dark_violet\n"
     ]
    },
    {
     "output_type": "execute_result",
     "data": {
      "text/plain": [
       "[1, 2, 2, 2, 2, 2, 2]"
      ]
     },
     "metadata": {},
     "execution_count": 19
    }
   ],
   "source": [
    "from anytree import RenderTree, AsciiStyle, PreOrderIter\n",
    "\n",
    "root = part_2(test.splitlines())\n",
    "print(RenderTree(root,style=AsciiStyle()).by_attr())\n",
    "[node.num for node in PreOrderIter(root)]"
   ]
  },
  {
   "cell_type": "code",
   "execution_count": 20,
   "metadata": {},
   "outputs": [
    {
     "output_type": "stream",
     "name": "stdout",
     "text": [
      "shiny_gold\n|-- clear_fuchsia\n|   |-- vibrant_silver\n|   |   |-- wavy_violet\n|   |   |   |-- dull_silver\n|   |   |   |-- dark_gold\n|   |   |   +-- striped_bronze\n|   |   +-- posh_chartreuse\n|   |       |-- mirrored_cyan\n|   |       |-- drab_salmon\n|   |       |-- dim_olive\n|   |       +-- posh_lime\n|   |-- posh_lime\n|   +-- striped_crimson\n|       +-- wavy_coral\n|           |-- mirrored_red\n|           |-- striped_gold\n|           |   |-- mirrored_cyan\n|           |   |-- dark_olive\n|           |   |   |-- dim_olive\n|           |   |   +-- mirrored_red\n|           |   |-- mirrored_red\n|           |   +-- posh_chartreuse\n|           |       |-- mirrored_cyan\n|           |       |-- drab_salmon\n|           |       |-- dim_olive\n|           |       +-- posh_lime\n|           |-- faded_maroon\n|           |   |-- drab_salmon\n|           |   |-- posh_lime\n|           |   |-- dim_olive\n|           |   +-- striped_bronze\n|           +-- dark_olive\n|               |-- dim_olive\n|               +-- mirrored_red\n|-- vibrant_indigo\n|   |-- vibrant_silver\n|   |   |-- wavy_violet\n|   |   |   |-- dull_silver\n|   |   |   |-- dark_gold\n|   |   |   +-- striped_bronze\n|   |   +-- posh_chartreuse\n|   |       |-- mirrored_cyan\n|   |       |-- drab_salmon\n|   |       |-- dim_olive\n|   |       +-- posh_lime\n|   |-- dark_olive\n|   |   |-- dim_olive\n|   |   +-- mirrored_red\n|   |-- striped_chartreuse\n|   |   |-- dark_gold\n|   |   +-- pale_fuchsia\n|   |       +-- dark_gold\n|   +-- muted_fuchsia\n|       |-- pale_fuchsia\n|       |   +-- dark_gold\n|       |-- mirrored_white\n|       |   |-- dark_olive\n|       |   |   |-- dim_olive\n|       |   |   +-- mirrored_red\n|       |   +-- striped_bronze\n|       |-- clear_fuchsia\n|       |   |-- vibrant_silver\n|       |   |   |-- wavy_violet\n|       |   |   |   |-- dull_silver\n|       |   |   |   |-- dark_gold\n|       |   |   |   +-- striped_bronze\n|       |   |   +-- posh_chartreuse\n|       |   |       |-- mirrored_cyan\n|       |   |       |-- drab_salmon\n|       |   |       |-- dim_olive\n|       |   |       +-- posh_lime\n|       |   |-- posh_lime\n|       |   +-- striped_crimson\n|       |       +-- wavy_coral\n|       |           |-- mirrored_red\n|       |           |-- striped_gold\n|       |           |   |-- mirrored_cyan\n|       |           |   |-- dark_olive\n|       |           |   |   |-- dim_olive\n|       |           |   |   +-- mirrored_red\n|       |           |   |-- mirrored_red\n|       |           |   +-- posh_chartreuse\n|       |           |       |-- mirrored_cyan\n|       |           |       |-- drab_salmon\n|       |           |       |-- dim_olive\n|       |           |       +-- posh_lime\n|       |           |-- faded_maroon\n|       |           |   |-- drab_salmon\n|       |           |   |-- posh_lime\n|       |           |   |-- dim_olive\n|       |           |   +-- striped_bronze\n|       |           +-- dark_olive\n|       |               |-- dim_olive\n|       |               +-- mirrored_red\n|       +-- faded_maroon\n|           |-- drab_salmon\n|           |-- posh_lime\n|           |-- dim_olive\n|           +-- striped_bronze\n+-- dotted_maroon\n    +-- drab_salmon\n"
     ]
    },
    {
     "output_type": "execute_result",
     "data": {
      "text/plain": [
       "[1,\n",
       " 3,\n",
       " 5,\n",
       " 4,\n",
       " 5,\n",
       " 3,\n",
       " 5,\n",
       " 2,\n",
       " 2,\n",
       " 4,\n",
       " 4,\n",
       " 2,\n",
       " 5,\n",
       " 4,\n",
       " 1,\n",
       " 5,\n",
       " 1,\n",
       " 1,\n",
       " 1,\n",
       " 3,\n",
       " 3,\n",
       " 4,\n",
       " 5,\n",
       " 2,\n",
       " 4,\n",
       " 4,\n",
       " 2,\n",
       " 5,\n",
       " 3,\n",
       " 5,\n",
       " 4,\n",
       " 5,\n",
       " 1,\n",
       " 3,\n",
       " 3,\n",
       " 2,\n",
       " 1,\n",
       " 4,\n",
       " 5,\n",
       " 3,\n",
       " 5,\n",
       " 2,\n",
       " 2,\n",
       " 4,\n",
       " 4,\n",
       " 2,\n",
       " 5,\n",
       " 3,\n",
       " 3,\n",
       " 1,\n",
       " 3,\n",
       " 2,\n",
       " 2,\n",
       " 1,\n",
       " 1,\n",
       " 2,\n",
       " 4,\n",
       " 2,\n",
       " 3,\n",
       " 3,\n",
       " 4,\n",
       " 3,\n",
       " 5,\n",
       " 4,\n",
       " 5,\n",
       " 3,\n",
       " 5,\n",
       " 2,\n",
       " 2,\n",
       " 4,\n",
       " 4,\n",
       " 2,\n",
       " 5,\n",
       " 4,\n",
       " 1,\n",
       " 5,\n",
       " 1,\n",
       " 1,\n",
       " 1,\n",
       " 3,\n",
       " 3,\n",
       " 4,\n",
       " 5,\n",
       " 2,\n",
       " 4,\n",
       " 4,\n",
       " 2,\n",
       " 5,\n",
       " 3,\n",
       " 5,\n",
       " 4,\n",
       " 5,\n",
       " 1,\n",
       " 3,\n",
       " 3,\n",
       " 3,\n",
       " 3,\n",
       " 5,\n",
       " 4,\n",
       " 5,\n",
       " 4,\n",
       " 1]"
      ]
     },
     "metadata": {},
     "execution_count": 20
    }
   ],
   "source": [
    "from anytree import RenderTree, AsciiStyle, PreOrderIter\n",
    "\n",
    "root = part_2(open(\"input/input7.txt\"))\n",
    "print(RenderTree(root,style=AsciiStyle()).by_attr())\n",
    "[node.num for node in PreOrderIter(root)]"
   ]
  },
  {
   "cell_type": "code",
   "execution_count": null,
   "metadata": {},
   "outputs": [],
   "source": []
  },
  {
   "cell_type": "code",
   "execution_count": 128,
   "metadata": {},
   "outputs": [
    {
     "output_type": "execute_result",
     "data": {
      "text/plain": [
       "{'clear_fuchsia': '3', 'vibrant_indigo': '2', 'dotted_maroon': '4'}"
      ]
     },
     "metadata": {},
     "execution_count": 128
    }
   ],
   "source": [
    "bags[\"shiny_gold\"]"
   ]
  },
  {
   "cell_type": "code",
   "execution_count": null,
   "metadata": {},
   "outputs": [],
   "source": []
  },
  {
   "cell_type": "code",
   "execution_count": null,
   "metadata": {},
   "outputs": [],
   "source": []
  },
  {
   "cell_type": "code",
   "execution_count": null,
   "metadata": {},
   "outputs": [],
   "source": []
  }
 ]
}