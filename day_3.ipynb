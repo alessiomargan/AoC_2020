{
 "metadata": {
  "language_info": {
   "codemirror_mode": {
    "name": "ipython",
    "version": 3
   },
   "file_extension": ".py",
   "mimetype": "text/x-python",
   "name": "python",
   "nbconvert_exporter": "python",
   "pygments_lexer": "ipython3",
   "version": "3.8.5-final"
  },
  "orig_nbformat": 2,
  "kernelspec": {
   "name": "python3",
   "display_name": "Python 3",
   "language": "python"
  }
 },
 "nbformat": 4,
 "nbformat_minor": 2,
 "cells": [
  {
   "cell_type": "code",
   "execution_count": 1,
   "metadata": {},
   "outputs": [],
   "source": [
    "%run utils.py"
   ]
  },
  {
   "cell_type": "code",
   "execution_count": 2,
   "metadata": {},
   "outputs": [],
   "source": [
    "test=\"\"\"\\\n",
    "..##.......\n",
    "#...#...#..\n",
    ".#....#..#.\n",
    "..#.#...#.#\n",
    ".#...##..#.\n",
    "..#.##.....\n",
    ".#.#.#....#\n",
    ".#........#\n",
    "#.##...#...\n",
    "#...##....#\n",
    ".#..#...#.#\"\"\"\n",
    "\n",
    "# right 'r' down 'd'\n",
    "slopes = [\n",
    "    {'r':1,'d':1},\n",
    "    {'r':3,'d':1}, # part 1 slope\n",
    "    {'r':5,'d':1},\n",
    "    {'r':7,'d':1},\n",
    "    {'r':1,'d':2},\n",
    "]"
   ]
  },
  {
   "cell_type": "code",
   "execution_count": 3,
   "metadata": {},
   "outputs": [],
   "source": [
    "def traverse_map(slope, iter_in,debug=False):\n",
    "    \"row and col are str index\"\n",
    "    col = 0\n",
    "    move_down = 0\n",
    "    for row,raw_line in enumerate(iter_in) :\n",
    "        \"remove new line\"\n",
    "        line = raw_line.strip()\n",
    "        \n",
    "        if move_down > 1 :\n",
    "            move_down -= 1\n",
    "            continue\n",
    "        \n",
    "        col_max = len(line)-1\n",
    "        col = col if col <= col_max else col % (col_max+1)\n",
    "        \n",
    "        hit_tree = 1 if line[col] == '#' else 0\n",
    "        lline =list(line)\n",
    "        lline[col] = 'X' if hit_tree else 'O'\n",
    "        if ( debug ):\n",
    "            print(\"\".join(lline),row,col,len(lline))\n",
    "        yield hit_tree\n",
    "        \n",
    "        col += slope['r']\n",
    "        move_down = slope['d']\n",
    "        \n",
    "        \n",
    "    "
   ]
  },
  {
   "cell_type": "code",
   "execution_count": 4,
   "metadata": {},
   "outputs": [],
   "source": [
    "def run_slopes(slope_list, iter_in, debug):\n",
    "    \"need a new iter_in for each slope ... using tee\"\n",
    "    for slope,it in zip(slope_list,tee(iter_in,len(slope_list))) :\n",
    "        yield sum(list(traverse_map(slope, it, debug)))\n"
   ]
  },
  {
   "cell_type": "code",
   "execution_count": 5,
   "metadata": {},
   "outputs": [
    {
     "output_type": "stream",
     "name": "stdout",
     "text": [
      "[2, 7, 3, 4, 2]\n"
     ]
    },
    {
     "output_type": "execute_result",
     "data": {
      "text/plain": [
       "336"
      ]
     },
     "metadata": {},
     "execution_count": 5
    }
   ],
   "source": [
    "hit_tree = list(run_slopes(slopes, test.splitlines(), False))\n",
    "print(hit_tree)\n",
    "math.prod(hit_tree)"
   ]
  },
  {
   "cell_type": "code",
   "execution_count": 6,
   "metadata": {},
   "outputs": [
    {
     "output_type": "stream",
     "name": "stdout",
     "text": [
      "[61, 265, 82, 70, 34]\n"
     ]
    },
    {
     "output_type": "execute_result",
     "data": {
      "text/plain": [
       "3154761400"
      ]
     },
     "metadata": {},
     "execution_count": 6
    }
   ],
   "source": [
    "hit_tree = list(run_slopes(slopes, open(\"input/input3.txt\"), False))\n",
    "print(hit_tree)\n",
    "math.prod(hit_tree)"
   ]
  }
 ]
}